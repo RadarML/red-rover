{
 "cells": [
  {
   "cell_type": "code",
   "execution_count": null,
   "metadata": {},
   "outputs": [],
   "source": [
    "import os\n",
    "\n",
    "if os.getcwd().endswith(\"notebooks\"):\n",
    "    os.chdir(\"..\")\n",
    "print(\"cwd:\", os.getcwd())"
   ]
  },
  {
   "cell_type": "code",
   "execution_count": 1,
   "metadata": {
    "metadata": {}
   },
   "outputs": [],
   "source": [
    "from matplotlib import pyplot as plt\n",
    "import numpy as np\n",
    "\n",
    "from rover import VoxelGrid"
   ]
  },
  {
   "cell_type": "code",
   "execution_count": 3,
   "metadata": {
    "metadata": {}
   },
   "outputs": [],
   "source": [
    "grid = VoxelGrid.from_npz(\"arrow/results/wiselab2/demo/map.npz\", decimate=2)"
   ]
  },
  {
   "cell_type": "code",
   "execution_count": null,
   "metadata": {
    "metadata": {}
   },
   "outputs": [],
   "source": [
    "grid_crop = grid.crop(left=(100, 100, 30), right=(310, 450, 120))\n",
    "\n",
    "fig, axs = plt.subplots(1, 1, figsize=(12, 4))\n",
    "axs.imshow(np.sum(grid_crop.data, axis=2).T)"
   ]
  },
  {
   "cell_type": "code",
   "execution_count": null,
   "metadata": {
    "metadata": {}
   },
   "outputs": [],
   "source": [
    "from jax.scipy.signal import convolve\n",
    "\n",
    "grid_cfar = grid_crop.cfar(guard_band=1, window_size=3, convolve_func=convolve)\n",
    "grid_clip = grid_crop.normalize(left=10.0, right=99.5)\n",
    "\n",
    "layers = [(3.0, 0.25), (2.0, 0.2), (1.5, 0.15)]\n",
    "masks = []\n",
    "\n",
    "mask = False\n",
    "for cfar, sigma in layers:\n",
    "    layer = (grid_clip.data > sigma) & (grid_crop.data > cfar * grid_cfar.data)\n",
    "    masks.append(layer & ~mask)\n",
    "    mask |= layer\n",
    "\n",
    "\n",
    "fig, axs = plt.subplots(1, 3, figsize=(16, 8))\n",
    "\n",
    "for ax, m in zip(axs, masks):\n",
    "    ax.imshow(m[:, :, 30])"
   ]
  },
  {
   "cell_type": "code",
   "execution_count": 9,
   "metadata": {
    "metadata": {}
   },
   "outputs": [],
   "source": [
    "grid_clip.as_pcd(\"arrow/results/wiselab2/demo1.pcd\", masks[0])\n",
    "grid_clip.as_pcd(\"arrow/results/wiselab2/demo2.pcd\", masks[1])\n",
    "grid_clip.as_pcd(\"arrow/results/wiselab2/demo3.pcd\", masks[2])"
   ]
  }
 ],
 "metadata": {
  "kernelspec": {
   "display_name": "rover",
   "language": "python",
   "name": "python3"
  },
  "language_info": {
   "codemirror_mode": {
    "name": "ipython",
    "version": 3
   },
   "file_extension": ".py",
   "mimetype": "text/x-python",
   "name": "python",
   "nbconvert_exporter": "python",
   "pygments_lexer": "ipython3",
   "version": "3.1.undefined"
  }
 },
 "nbformat": 4,
 "nbformat_minor": 2
}
