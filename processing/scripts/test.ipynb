{
 "cells": [
  {
   "cell_type": "code",
   "execution_count": 32,
   "metadata": {},
   "outputs": [
    {
     "name": "stdout",
     "output_type": "stream",
     "text": [
      "Description: Run CFAR and AOA estimation.\n",
      "Optional Text: The output data has the same shape as the input range-doppler images, and assumes each range-doppler bin is a unique point. Different channels then denote the properties of each bin.\n",
      "\n",
      "NOTE: this script **appends** to existing data. If `_cfar/*` is already populated, it must be manually cleared first!\n",
      "Inputs: ['`radar/*`']\n",
      "Outputs: ['`_cfar/*`']\n"
     ]
    }
   ],
   "source": [
    "import re\n",
    "\n",
    "\n",
    "def _parse_bullets(s):\n",
    "    return [\n",
    "        line.strip().replace('\\n      ', ' ').lstrip('- ').strip()\n",
    "        for line in s.split('\\n    -') if line.strip()]\n",
    "\n",
    "\n",
    "def _parse_script(file_path):\n",
    "    with open(file_path, 'r') as file:\n",
    "        content = file.read()\n",
    "\n",
    "    pattern = re.compile(\n",
    "        r'\"\"\"(.*?)\\n\\n(.*?)Inputs:\\n(.*?)\\n\\nOutputs:\\n(.*?)(?:\\n\\n|\"\"\")',\n",
    "        re.DOTALL)\n",
    "    match = pattern.search(content)\n",
    "\n",
    "    if not match:\n",
    "        raise ValueError(f\"Docstring does not match format: {file_path}\")\n",
    "\n",
    "    desc = match.group(1).strip()\n",
    "    desc2 = re.sub(r'(?<!\\n)\\n(?!\\n)', ' ', match.group(2).strip())\n",
    "    inputs = match.group(3).strip()\n",
    "    outputs = match.group(4).strip()\n",
    "\n",
    "    return desc, desc2, _parse_bullets(inputs), _parse_bullets(outputs)\n",
    "\n",
    "# Example usage\n",
    "description, optional_text, inputs, outputs = _parse_script(\"cfar.py\")\n",
    "print(\"Description:\", description)\n",
    "print(\"Optional Text:\", optional_text)\n",
    "print(\"Inputs:\", inputs)\n",
    "print(\"Outputs:\", outputs)"
   ]
  },
  {
   "cell_type": "code",
   "execution_count": null,
   "metadata": {},
   "outputs": [],
   "source": []
  }
 ],
 "metadata": {
  "kernelspec": {
   "display_name": "rover",
   "language": "python",
   "name": "python3"
  },
  "language_info": {
   "codemirror_mode": {
    "name": "ipython",
    "version": 3
   },
   "file_extension": ".py",
   "mimetype": "text/x-python",
   "name": "python",
   "nbconvert_exporter": "python",
   "pygments_lexer": "ipython3",
   "version": "3.11.8"
  }
 },
 "nbformat": 4,
 "nbformat_minor": 2
}
